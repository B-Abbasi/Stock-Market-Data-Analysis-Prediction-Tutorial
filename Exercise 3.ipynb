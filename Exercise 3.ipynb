{
 "cells": [
  {
   "cell_type": "markdown",
   "metadata": {},
   "source": [
    "# Exercise 3 : Predicting Something\n",
    "Author : Burhan Abbasi \n",
    "\n",
    "Date : 11 February 2019\n",
    "\n",
    "Python version 3.7"
   ]
  },
  {
   "cell_type": "markdown",
   "metadata": {},
   "source": [
    "Disclaimer : This series of tutorials will use data hosted on Kaggle. For the purpose of this course a copy has been downloaded from the site. For latest data visit the following URL https://www.kaggle.com/timoboz/stock-data-dow-jones"
   ]
  },
  {
   "cell_type": "code",
   "execution_count": null,
   "metadata": {},
   "outputs": [],
   "source": [
    "from os import listdir \n",
    "import pandas as pd\n",
    "\n",
    "dir_path ='Data_Set/stock-data-dow-jones/'\n",
    "files_list = [f for f in listdir(dir_path)]\n",
    "list_ = []\n",
    "\n",
    "for file_ in files_list:\n",
    "    df = pd.read_csv(dir_path+file_,index_col=None, header=0)\n",
    "    df['Stock'] =file_.split('.')[0]\n",
    "    list_.append(df)\n",
    "\n",
    "data= pd.concat(list_, axis = 0, ignore_index = True)      #Concatenating all files "
   ]
  },
  {
   "cell_type": "code",
   "execution_count": null,
   "metadata": {},
   "outputs": [],
   "source": [
    "data.columns"
   ]
  },
  {
   "cell_type": "markdown",
   "metadata": {},
   "source": [
    "As discussed in previous exercise we have determined that `label` field is derived from `date` and it contains some inconsistencies, therefore it seems logical to use information in `date` field and drop `label` column."
   ]
  },
  {
   "cell_type": "code",
   "execution_count": null,
   "metadata": {},
   "outputs": [],
   "source": [
    "data['date']= pd.to_datetime(data['date'], format='%Y-%m-%d')"
   ]
  },
  {
   "cell_type": "markdown",
   "metadata": {},
   "source": [
    "##### Question 1: Study the error in cell below, consult documentation of Pandas.DataFrame.Drop function at https://pandas.pydata.org/pandas-docs/stable/reference/api/pandas.DataFrame.drop.html to fix the issue."
   ]
  },
  {
   "cell_type": "code",
   "execution_count": null,
   "metadata": {},
   "outputs": [],
   "source": [
    "data.drop(labels='label')"
   ]
  },
  {
   "cell_type": "markdown",
   "metadata": {},
   "source": [
    "Now that extra column has been dropped. Lets take a look at our data again."
   ]
  },
  {
   "cell_type": "code",
   "execution_count": null,
   "metadata": {},
   "outputs": [],
   "source": [
    "data.head()"
   ]
  },
  {
   "cell_type": "markdown",
   "metadata": {},
   "source": [
    "##### Question 2: Why do we have `label` field in the dataframe. consult documentation of Pandas.DataFrame.Drop function at https://pandas.pydata.org/pandas-docs/stable/reference/api/pandas.DataFrame.drop.html to fix the issue."
   ]
  },
  {
   "cell_type": "code",
   "execution_count": null,
   "metadata": {},
   "outputs": [],
   "source": [
    "data.drop(labels='label')"
   ]
  },
  {
   "cell_type": "markdown",
   "metadata": {},
   "source": [
    "Now that the column has actually been dropped we want to store features separately from the class."
   ]
  },
  {
   "cell_type": "code",
   "execution_count": null,
   "metadata": {},
   "outputs": [],
   "source": [
    "cols = list(data.columns.values)\n",
    "print(cols)"
   ]
  },
  {
   "cell_type": "markdown",
   "metadata": {},
   "source": [
    "##### Question 3: Code written in cell below  is intended for extracting information to separate predictors and labels of a class. Run the cell and fix the bug."
   ]
  },
  {
   "cell_type": "code",
   "execution_count": null,
   "metadata": {},
   "outputs": [],
   "source": [
    "features,instances = data.shape\n",
    "predictors= data[cols[:features-1]]\n",
    "labels =  data[cols[features-1]]"
   ]
  },
  {
   "cell_type": "markdown",
   "metadata": {},
   "source": [
    "After separating the data we can now move on to predicting something.\n",
    "We will use sklearn to train and evaluate our moels."
   ]
  },
  {
   "cell_type": "markdown",
   "metadata": {},
   "source": [
    "In this exercise we will use DummyClassifier provided by sklearn.dummy"
   ]
  },
  {
   "cell_type": "code",
   "execution_count": null,
   "metadata": {},
   "outputs": [],
   "source": [
    "from sklearn.dummy import DummyClassifier"
   ]
  },
  {
   "cell_type": "code",
   "execution_count": null,
   "metadata": {},
   "outputs": [],
   "source": [
    "#Model instance is created\n",
    "clf_dummy = DummyClassifier()"
   ]
  },
  {
   "cell_type": "code",
   "execution_count": null,
   "metadata": {},
   "outputs": [],
   "source": [
    "#Model training\n",
    "clf_dummy.fit(predictors,labels)"
   ]
  },
  {
   "cell_type": "code",
   "execution_count": null,
   "metadata": {},
   "outputs": [],
   "source": [
    "#Model predicting\n",
    "clf_dummy.predict(predictors)"
   ]
  },
  {
   "cell_type": "markdown",
   "metadata": {},
   "source": [
    "##### Question 4: sklearn.dummy.DummpyClasifier has different options for prediction that can be specified using parameter `strategy`.\n",
    "Study documentation at the link below and report accuracy score for each strategy (except 'constant').\n",
    "https://scikit-learn.org/stable/modules/generated/sklearn.dummy.DummyClassifier.html#sklearn.dummy.DummyClassifier\n"
   ]
  },
  {
   "cell_type": "code",
   "execution_count": null,
   "metadata": {},
   "outputs": [],
   "source": []
  },
  {
   "cell_type": "markdown",
   "metadata": {},
   "source": [
    "##### Question 5: Using `Constant` strategy for prediction. Which value will give highest accuracy? Write your code in below cell."
   ]
  },
  {
   "cell_type": "code",
   "execution_count": null,
   "metadata": {},
   "outputs": [],
   "source": []
  },
  {
   "cell_type": "markdown",
   "metadata": {},
   "source": [
    "##### Question 6 : Answer following.\n",
    "    a. What are your findings? \n",
    "    b. Which strategy performed best? \n",
    "    c. Why performance is not improving?\n",
    "    d. Is there anything wrong about our approach?"
   ]
  },
  {
   "cell_type": "code",
   "execution_count": null,
   "metadata": {},
   "outputs": [],
   "source": []
  }
 ],
 "metadata": {
  "kernelspec": {
   "display_name": "Python 3",
   "language": "python",
   "name": "python3"
  },
  "language_info": {
   "codemirror_mode": {
    "name": "ipython",
    "version": 3
   },
   "file_extension": ".py",
   "mimetype": "text/x-python",
   "name": "python",
   "nbconvert_exporter": "python",
   "pygments_lexer": "ipython3",
   "version": "3.7.2"
  }
 },
 "nbformat": 4,
 "nbformat_minor": 2
}
