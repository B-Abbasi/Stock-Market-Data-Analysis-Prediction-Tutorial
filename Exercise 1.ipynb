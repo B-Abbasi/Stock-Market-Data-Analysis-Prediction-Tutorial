{
 "cells": [
  {
   "cell_type": "markdown",
   "metadata": {},
   "source": [
    "# Exercise 1 : Getting to Know your Data\n",
    "Author : Burhan Abbasi \n",
    "\n",
    "Date : 26 January 2018\n",
    "\n",
    "Python version 3.7"
   ]
  },
  {
   "cell_type": "markdown",
   "metadata": {},
   "source": [
    "Disclaimer : This series of tutorials will use data hosted on Kaggle. For the purpose of this course a copy has been downloaded from the site. For latest data visit the link below https://www.kaggle.com/timoboz/stock-data-dow-jones"
   ]
  },
  {
   "cell_type": "markdown",
   "metadata": {},
   "source": [
    "## Step 1: File Count & File Formats"
   ]
  },
  {
   "cell_type": "markdown",
   "metadata": {},
   "source": [
    "Location of data files relative to code files is 'Data_Set/stock-data-dow-jones/' \n",
    "We want to import the files but first we may want to know how many files are in the storage, also what is the format? Are some files in csv and other in xlsx?"
   ]
  },
  {
   "cell_type": "code",
   "execution_count": 7,
   "metadata": {},
   "outputs": [],
   "source": [
    " # list containing the names of the entries in the directory given by path\n",
    "from os import listdir \n",
    "dir_path ='Data_Set/stock-data-dow-jones/'\n",
    "files_list = [f for f in listdir(dir_path)]"
   ]
  },
  {
   "cell_type": "code",
   "execution_count": 2,
   "metadata": {},
   "outputs": [
    {
     "name": "stdout",
     "output_type": "stream",
     "text": [
      "Total files in storage location:  30\n",
      "First 10 File Names are: ['AAPL.csv', 'AXP.csv', 'BA.csv', 'CAT.csv', 'CSCO.csv']\n",
      "Last 10 File Names are:  ['V.csv', 'VZ.csv', 'WBA.csv', 'WMT.csv', 'XOM.csv']\n"
     ]
    }
   ],
   "source": [
    "print('Total files in storage location: ', len(files_list) ) #file count\n",
    "print('First 5 File Names are:',files_list[:5]) #prints first 5 file names\n",
    "print('Last 5 File Names are: ',files_list[-5:]) #prints last 5 file names"
   ]
  },
  {
   "cell_type": "markdown",
   "metadata": {},
   "source": [
    "Identifying the formats.\n",
    "Since most files ended with CSV, we extract last 3 letters of each name"
   ]
  },
  {
   "cell_type": "code",
   "execution_count": 4,
   "metadata": {},
   "outputs": [
    {
     "name": "stdout",
     "output_type": "stream",
     "text": [
      "Number of data formats used in dataset:  1\n",
      "Formats used in data:  {'csv'}\n"
     ]
    }
   ],
   "source": [
    "_formats = [f[-3:] for f in files_list]\n",
    "_formatsSet = set(_formats)\n",
    "print('Number of data formats used in dataset: ',len(_formatsSet))\n",
    "print('Formats used in data: ', _formatsSet) "
   ]
  },
  {
   "cell_type": "markdown",
   "metadata": {},
   "source": [
    "##### Findings : We now know the number of files in the directory & formats of files."
   ]
  },
  {
   "cell_type": "markdown",
   "metadata": {},
   "source": [
    "## Step 2: Reading a File\n",
    "We will use Pandas for reading files and preprocessing of data"
   ]
  },
  {
   "cell_type": "code",
   "execution_count": 5,
   "metadata": {},
   "outputs": [
    {
     "name": "stdout",
     "output_type": "stream",
     "text": [
      "0.24.0\n"
     ]
    }
   ],
   "source": [
    "import pandas as pd   #https://pandas.pydata.org/\n",
    "print(pd.__version__) #check version of Pandas"
   ]
  },
  {
   "cell_type": "code",
   "execution_count": 12,
   "metadata": {},
   "outputs": [
    {
     "name": "stdout",
     "output_type": "stream",
     "text": [
      "Index(['date', 'open', 'high', 'low', 'close', 'volume', 'unadjustedVolume',\n",
      "       'change', 'changePercent', 'vwap', 'label', 'changeOverTime'],\n",
      "      dtype='object')\n"
     ]
    },
    {
     "data": {
      "text/html": [
       "<div>\n",
       "<style scoped>\n",
       "    .dataframe tbody tr th:only-of-type {\n",
       "        vertical-align: middle;\n",
       "    }\n",
       "\n",
       "    .dataframe tbody tr th {\n",
       "        vertical-align: top;\n",
       "    }\n",
       "\n",
       "    .dataframe thead th {\n",
       "        text-align: right;\n",
       "    }\n",
       "</style>\n",
       "<table border=\"1\" class=\"dataframe\">\n",
       "  <thead>\n",
       "    <tr style=\"text-align: right;\">\n",
       "      <th></th>\n",
       "      <th>date</th>\n",
       "      <th>open</th>\n",
       "      <th>high</th>\n",
       "      <th>low</th>\n",
       "      <th>close</th>\n",
       "      <th>volume</th>\n",
       "      <th>unadjustedVolume</th>\n",
       "      <th>change</th>\n",
       "      <th>changePercent</th>\n",
       "      <th>vwap</th>\n",
       "      <th>label</th>\n",
       "      <th>changeOverTime</th>\n",
       "    </tr>\n",
       "  </thead>\n",
       "  <tbody>\n",
       "    <tr>\n",
       "      <th>0</th>\n",
       "      <td>2014-01-27</td>\n",
       "      <td>72.1199</td>\n",
       "      <td>72.7401</td>\n",
       "      <td>71.5535</td>\n",
       "      <td>72.1763</td>\n",
       "      <td>144219152</td>\n",
       "      <td>20602736</td>\n",
       "      <td>0.580818</td>\n",
       "      <td>0.811</td>\n",
       "      <td>70.6687</td>\n",
       "      <td>Jan 27, 14</td>\n",
       "      <td>0.000000</td>\n",
       "    </tr>\n",
       "    <tr>\n",
       "      <th>1</th>\n",
       "      <td>2014-01-28</td>\n",
       "      <td>66.7037</td>\n",
       "      <td>67.5219</td>\n",
       "      <td>65.8266</td>\n",
       "      <td>66.4074</td>\n",
       "      <td>266833581</td>\n",
       "      <td>38119083</td>\n",
       "      <td>-5.768900</td>\n",
       "      <td>-7.993</td>\n",
       "      <td>66.7869</td>\n",
       "      <td>Jan 28, 14</td>\n",
       "      <td>-0.079928</td>\n",
       "    </tr>\n",
       "    <tr>\n",
       "      <th>2</th>\n",
       "      <td>2014-01-29</td>\n",
       "      <td>66.0731</td>\n",
       "      <td>66.5215</td>\n",
       "      <td>65.3743</td>\n",
       "      <td>65.6535</td>\n",
       "      <td>125942796</td>\n",
       "      <td>17991828</td>\n",
       "      <td>-0.753887</td>\n",
       "      <td>-1.135</td>\n",
       "      <td>65.8259</td>\n",
       "      <td>Jan 29, 14</td>\n",
       "      <td>-0.090373</td>\n",
       "    </tr>\n",
       "    <tr>\n",
       "      <th>3</th>\n",
       "      <td>2014-01-30</td>\n",
       "      <td>65.8882</td>\n",
       "      <td>66.4074</td>\n",
       "      <td>65.1226</td>\n",
       "      <td>65.5266</td>\n",
       "      <td>169762789</td>\n",
       "      <td>24251827</td>\n",
       "      <td>-0.126916</td>\n",
       "      <td>-0.193</td>\n",
       "      <td>71.9614</td>\n",
       "      <td>Jan 30, 14</td>\n",
       "      <td>-0.092131</td>\n",
       "    </tr>\n",
       "    <tr>\n",
       "      <th>4</th>\n",
       "      <td>2014-01-31</td>\n",
       "      <td>64.9233</td>\n",
       "      <td>65.7558</td>\n",
       "      <td>64.7096</td>\n",
       "      <td>65.6339</td>\n",
       "      <td>116336444</td>\n",
       "      <td>16619492</td>\n",
       "      <td>0.107251</td>\n",
       "      <td>0.164</td>\n",
       "      <td>71.6528</td>\n",
       "      <td>Jan 31, 14</td>\n",
       "      <td>-0.090645</td>\n",
       "    </tr>\n",
       "  </tbody>\n",
       "</table>\n",
       "</div>"
      ],
      "text/plain": [
       "         date     open     high      low    close     volume  \\\n",
       "0  2014-01-27  72.1199  72.7401  71.5535  72.1763  144219152   \n",
       "1  2014-01-28  66.7037  67.5219  65.8266  66.4074  266833581   \n",
       "2  2014-01-29  66.0731  66.5215  65.3743  65.6535  125942796   \n",
       "3  2014-01-30  65.8882  66.4074  65.1226  65.5266  169762789   \n",
       "4  2014-01-31  64.9233  65.7558  64.7096  65.6339  116336444   \n",
       "\n",
       "   unadjustedVolume    change  changePercent     vwap       label  \\\n",
       "0          20602736  0.580818          0.811  70.6687  Jan 27, 14   \n",
       "1          38119083 -5.768900         -7.993  66.7869  Jan 28, 14   \n",
       "2          17991828 -0.753887         -1.135  65.8259  Jan 29, 14   \n",
       "3          24251827 -0.126916         -0.193  71.9614  Jan 30, 14   \n",
       "4          16619492  0.107251          0.164  71.6528  Jan 31, 14   \n",
       "\n",
       "   changeOverTime  \n",
       "0        0.000000  \n",
       "1       -0.079928  \n",
       "2       -0.090373  \n",
       "3       -0.092131  \n",
       "4       -0.090645  "
      ]
     },
     "execution_count": 12,
     "metadata": {},
     "output_type": "execute_result"
    }
   ],
   "source": [
    "dataFrame1= pd.read_csv(dir_path+files_list[0])  #read a csv file\n",
    "print(dataFrame1.columns)       #view attributes of the data\n",
    "print(dataFrame1.shape)         #information about the number of records and attributes in data \n",
    "dataFrame1.head()               #view top 5 rows of dataframe to get an idea of what the data looks like"
   ]
  },
  {
   "cell_type": "markdown",
   "metadata": {},
   "source": [
    "##### Q1. How to identify that all files have same columns? Write your solution below?"
   ]
  },
  {
   "cell_type": "code",
   "execution_count": null,
   "metadata": {},
   "outputs": [],
   "source": []
  },
  {
   "cell_type": "markdown",
   "metadata": {},
   "source": [
    "## Step 3: Reading All Files Into Memory"
   ]
  },
  {
   "cell_type": "code",
   "execution_count": 15,
   "metadata": {},
   "outputs": [],
   "source": [
    "list_ = []\n",
    "for file_ in files_list:\n",
    "    df = pd.read_csv(dir_path+file_,index_col=None, header=0)\n",
    "    list_.append(df)\n",
    "\n",
    "data= pd.concat(list_, axis = 0, ignore_index = True)      #Concatenating all files "
   ]
  },
  {
   "cell_type": "markdown",
   "metadata": {},
   "source": [
    "##### Q2. How many rows & columns in variable 'data'? Write your solution below?"
   ]
  },
  {
   "cell_type": "code",
   "execution_count": null,
   "metadata": {},
   "outputs": [],
   "source": []
  },
  {
   "cell_type": "markdown",
   "metadata": {},
   "source": [
    "Now that we have the data, lets see what we have by extracting a sample from dataframe"
   ]
  },
  {
   "cell_type": "code",
   "execution_count": 23,
   "metadata": {},
   "outputs": [
    {
     "data": {
      "text/html": [
       "<div>\n",
       "<style scoped>\n",
       "    .dataframe tbody tr th:only-of-type {\n",
       "        vertical-align: middle;\n",
       "    }\n",
       "\n",
       "    .dataframe tbody tr th {\n",
       "        vertical-align: top;\n",
       "    }\n",
       "\n",
       "    .dataframe thead th {\n",
       "        text-align: right;\n",
       "    }\n",
       "</style>\n",
       "<table border=\"1\" class=\"dataframe\">\n",
       "  <thead>\n",
       "    <tr style=\"text-align: right;\">\n",
       "      <th></th>\n",
       "      <th>date</th>\n",
       "      <th>open</th>\n",
       "      <th>high</th>\n",
       "      <th>low</th>\n",
       "      <th>close</th>\n",
       "      <th>volume</th>\n",
       "      <th>unadjustedVolume</th>\n",
       "      <th>change</th>\n",
       "      <th>changePercent</th>\n",
       "      <th>vwap</th>\n",
       "      <th>label</th>\n",
       "      <th>changeOverTime</th>\n",
       "    </tr>\n",
       "  </thead>\n",
       "  <tbody>\n",
       "    <tr>\n",
       "      <th>16705</th>\n",
       "      <td>2014-01-28</td>\n",
       "      <td>32.9922</td>\n",
       "      <td>33.2517</td>\n",
       "      <td>32.8645</td>\n",
       "      <td>33.0773</td>\n",
       "      <td>8931212</td>\n",
       "      <td>8931212</td>\n",
       "      <td>0.119135</td>\n",
       "      <td>0.361</td>\n",
       "      <td>33.0718</td>\n",
       "      <td>Jan 28, 14</td>\n",
       "      <td>0.003614</td>\n",
       "    </tr>\n",
       "    <tr>\n",
       "      <th>28135</th>\n",
       "      <td>2014-07-02</td>\n",
       "      <td>76.2804</td>\n",
       "      <td>76.9518</td>\n",
       "      <td>75.5997</td>\n",
       "      <td>76.9238</td>\n",
       "      <td>3693498</td>\n",
       "      <td>3693498</td>\n",
       "      <td>0.559517</td>\n",
       "      <td>0.733</td>\n",
       "      <td>76.5599</td>\n",
       "      <td>Jul 2, 14</td>\n",
       "      <td>0.160881</td>\n",
       "    </tr>\n",
       "    <tr>\n",
       "      <th>298</th>\n",
       "      <td>2015-04-02</td>\n",
       "      <td>117.0658</td>\n",
       "      <td>117.5621</td>\n",
       "      <td>116.2793</td>\n",
       "      <td>117.3373</td>\n",
       "      <td>32220131</td>\n",
       "      <td>32220131</td>\n",
       "      <td>1.001800</td>\n",
       "      <td>0.861</td>\n",
       "      <td>116.9157</td>\n",
       "      <td>Apr 2, 15</td>\n",
       "      <td>0.625704</td>\n",
       "    </tr>\n",
       "    <tr>\n",
       "      <th>36305</th>\n",
       "      <td>2016-12-19</td>\n",
       "      <td>83.7652</td>\n",
       "      <td>83.9119</td>\n",
       "      <td>82.6835</td>\n",
       "      <td>82.8852</td>\n",
       "      <td>9674437</td>\n",
       "      <td>9674437</td>\n",
       "      <td>-0.696666</td>\n",
       "      <td>-0.834</td>\n",
       "      <td>82.9784</td>\n",
       "      <td>Dec 19, 16</td>\n",
       "      <td>0.049068</td>\n",
       "    </tr>\n",
       "    <tr>\n",
       "      <th>13333</th>\n",
       "      <td>2015-09-01</td>\n",
       "      <td>25.4881</td>\n",
       "      <td>25.6887</td>\n",
       "      <td>25.2237</td>\n",
       "      <td>25.3696</td>\n",
       "      <td>44143954</td>\n",
       "      <td>44143954</td>\n",
       "      <td>-0.656582</td>\n",
       "      <td>-2.523</td>\n",
       "      <td>25.4381</td>\n",
       "      <td>Sep 1, 15</td>\n",
       "      <td>0.187654</td>\n",
       "    </tr>\n",
       "  </tbody>\n",
       "</table>\n",
       "</div>"
      ],
      "text/plain": [
       "             date      open      high       low     close    volume  \\\n",
       "16705  2014-01-28   32.9922   33.2517   32.8645   33.0773   8931212   \n",
       "28135  2014-07-02   76.2804   76.9518   75.5997   76.9238   3693498   \n",
       "298    2015-04-02  117.0658  117.5621  116.2793  117.3373  32220131   \n",
       "36305  2016-12-19   83.7652   83.9119   82.6835   82.8852   9674437   \n",
       "13333  2015-09-01   25.4881   25.6887   25.2237   25.3696  44143954   \n",
       "\n",
       "       unadjustedVolume    change  changePercent      vwap       label  \\\n",
       "16705           8931212  0.119135          0.361   33.0718  Jan 28, 14   \n",
       "28135           3693498  0.559517          0.733   76.5599   Jul 2, 14   \n",
       "298            32220131  1.001800          0.861  116.9157   Apr 2, 15   \n",
       "36305           9674437 -0.696666         -0.834   82.9784  Dec 19, 16   \n",
       "13333          44143954 -0.656582         -2.523   25.4381   Sep 1, 15   \n",
       "\n",
       "       changeOverTime  \n",
       "16705        0.003614  \n",
       "28135        0.160881  \n",
       "298          0.625704  \n",
       "36305        0.049068  \n",
       "13333        0.187654  "
      ]
     },
     "execution_count": 23,
     "metadata": {},
     "output_type": "execute_result"
    }
   ],
   "source": [
    "data.sample(5)"
   ]
  },
  {
   "cell_type": "markdown",
   "metadata": {},
   "source": [
    "##### Q3. Identify what information has been lost? Suggest solution in the cell below. "
   ]
  },
  {
   "cell_type": "code",
   "execution_count": null,
   "metadata": {},
   "outputs": [],
   "source": [
    "  "
   ]
  },
  {
   "cell_type": "markdown",
   "metadata": {},
   "source": [
    "## Step 4: Exploring the data"
   ]
  },
  {
   "cell_type": "code",
   "execution_count": 33,
   "metadata": {},
   "outputs": [
    {
     "data": {
      "text/plain": [
       "date                0\n",
       "open                0\n",
       "high                0\n",
       "low                 0\n",
       "close               0\n",
       "volume              0\n",
       "unadjustedVolume    0\n",
       "change              0\n",
       "changePercent       0\n",
       "vwap                0\n",
       "label               0\n",
       "changeOverTime      0\n",
       "dtype: int64"
      ]
     },
     "execution_count": 33,
     "metadata": {},
     "output_type": "execute_result"
    }
   ],
   "source": [
    "#Identifying missing values\n",
    "data.isnull().sum()"
   ]
  },
  {
   "cell_type": "markdown",
   "metadata": {},
   "source": [
    "##### Q4. You have already used some functions like\n",
    "                pandas.DataFrame.head()\n",
    "                pandas.DataFrame.sample()\n",
    "\n",
    "##### Now explore outputs of following functions\n",
    "                pandas.DataFrame.tail()\n",
    "                pandas.DataFrame.info()\n",
    "                pandas.DataFrame.describe()\n",
    "            \n",
    "            \n"
   ]
  },
  {
   "cell_type": "code",
   "execution_count": null,
   "metadata": {},
   "outputs": [],
   "source": []
  },
  {
   "cell_type": "markdown",
   "metadata": {},
   "source": [
    "You may also want to see values of a specific column"
   ]
  },
  {
   "cell_type": "code",
   "execution_count": null,
   "metadata": {},
   "outputs": [],
   "source": [
    "data['date'].head()"
   ]
  },
  {
   "cell_type": "markdown",
   "metadata": {},
   "source": [
    "How many unique values in a certain columns?"
   ]
  },
  {
   "cell_type": "code",
   "execution_count": null,
   "metadata": {},
   "outputs": [],
   "source": [
    "len(data['date'].unique())"
   ]
  },
  {
   "cell_type": "markdown",
   "metadata": {},
   "source": [
    "#### Q5. How many unique stocks are in the data set?"
   ]
  },
  {
   "cell_type": "code",
   "execution_count": null,
   "metadata": {},
   "outputs": [],
   "source": []
  }
 ],
 "metadata": {
  "kernelspec": {
   "display_name": "Python 3",
   "language": "python",
   "name": "python3"
  },
  "language_info": {
   "codemirror_mode": {
    "name": "ipython",
    "version": 3
   },
   "file_extension": ".py",
   "mimetype": "text/x-python",
   "name": "python",
   "nbconvert_exporter": "python",
   "pygments_lexer": "ipython3",
   "version": "3.7.2"
  }
 },
 "nbformat": 4,
 "nbformat_minor": 2
}
